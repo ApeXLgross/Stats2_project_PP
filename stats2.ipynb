{
  "nbformat": 4,
  "nbformat_minor": 0,
  "metadata": {
    "colab": {
      "private_outputs": true,
      "provenance": [],
      "authorship_tag": "ABX9TyMBbOFHuVkrHAjQfrfST39W",
      "include_colab_link": true
    },
    "kernelspec": {
      "name": "python3",
      "display_name": "Python 3"
    },
    "language_info": {
      "name": "python"
    }
  },
  "cells": [
    {
      "cell_type": "markdown",
      "metadata": {
        "id": "view-in-github",
        "colab_type": "text"
      },
      "source": [
        "<a href=\"https://colab.research.google.com/github/ApeXLgross/Stats2_project_PP/blob/main/stats2.ipynb\" target=\"_parent\"><img src=\"https://colab.research.google.com/assets/colab-badge.svg\" alt=\"Open In Colab\"/></a>"
      ]
    },
    {
      "cell_type": "markdown",
      "source": [
        "# Gehaltdaten\n",
        "\n"
      ],
      "metadata": {
        "id": "V1bxizdfpStR"
      }
    },
    {
      "cell_type": "code",
      "source": [
        "!git clone https://github.com/ApeXLgross/Stats2_project_PP.git"
      ],
      "metadata": {
        "id": "jpvQf4W_614A"
      },
      "execution_count": null,
      "outputs": []
    },
    {
      "cell_type": "code",
      "source": [
        "import pandas as pd\n",
        "import numpy as np\n",
        "import matplotlib.pyplot as plt\n",
        "import statsmodels.api as sm\n",
        "data=pd.read_csv(\"/content/11 Kategoriale_Variablen_Salorg.csv\")\n",
        "data\n",
        "X = data[['Experience', 'yearsenior', 'Gender_1F']]  # Unabhängige Variable.\n",
        "y = data['Salary']  # Abhängige Variable.\n",
        "\n",
        "#Füge den unabhängigen Varaiblen eine Konstante hinzu ( für den Intercept im Regressionsmodell).\n",
        "X = sm.add_constant(X)\n",
        "\n",
        "#Passe das Regressionsmodell unter Verwendung der Methode der kleinsten Quadrate (OLS) an.\n",
        "model = sm.OLS(y, X).fit()\n",
        "\n",
        "#Zusammenfassung des Modells\n",
        "print(model.summary())\n"
      ],
      "metadata": {
        "id": "8296YFignGXl"
      },
      "execution_count": null,
      "outputs": []
    },
    {
      "cell_type": "markdown",
      "source": [
        "# Salarydifference between males and females"
      ],
      "metadata": {
        "id": "do8Yu0Y7ZwjF"
      }
    },
    {
      "cell_type": "code",
      "source": [
        "import pandas as pd\n",
        "import statsmodels.api as sm\n",
        "import matplotlib.pyplot as plt\n",
        "import seaborn as sns\n",
        "\n",
        "# Lade den Datensatz\n",
        "df2 = pd.read_csv('11 Kategoriale_Variablen_Salorg.csv')\n",
        "\n",
        "# Definiere die unabhängigen Variablen (X) und die abhängige Variable (y).\n",
        "X = df2[['Experience', 'Gender_1F']]\n",
        "y = df2['Salary']\n",
        "\n",
        "# Füge den unabhängigen Varaiblen eine Konstante hinzu ( für den Intercept im Regressionsmodell).\n",
        "X = sm.add_constant(X)\n",
        "\n",
        "# Passe das Regressionsmodell unter Verwendung der Methode der kleinsten Quadrate (OLS) an.\n",
        "model = sm.OLS(y, X).fit()\n",
        "\n",
        "# Zusammenfassung des Modells\n",
        "print(model.summary())\n",
        "\n",
        "# Generiere vorhergesagte Werte.\n",
        "df2['predicted_salary'] = model.predict(X)\n",
        "\n",
        "# Gehalt im Vergleich zur Erfahrung plotten\n",
        "plt.figure(figsize=(10, 6))\n",
        "\n",
        "# Plotte männlich (Gender_1F == 0) und weiblich (Gender_1F == 1) separat.\n",
        "sns.scatterplot(data=df2[df2['Gender_1F'] == 0], x='Experience', y='Salary', color='blue', label='Male', s=100, alpha=0.6)\n",
        "sns.scatterplot(data=df2[df2['Gender_1F'] == 1], x='Experience', y='Salary', color='red', label='Female', s=100, alpha=0.6)\n",
        "\n",
        "# Plotte vorhergesagte Linien für sowohl Männer als auch Frauen\n",
        "sns.lineplot(data=df2[df2['Gender_1F'] == 0], x='Experience', y='predicted_salary', color='blue', label='Male Predicted', linewidth=2)\n",
        "sns.lineplot(data=df2[df2['Gender_1F'] == 1], x='Experience', y='predicted_salary', color='red', label='Female Predicted', linewidth=2)\n",
        "\n",
        "\n",
        "plt.title('Gehalt vs Erfahrung nach Geschlecht mit vorhergesagten Linien', fontsize=16)\n",
        "plt.xlabel('Erfahrung (Jahre)', fontsize=14)\n",
        "plt.ylabel('Gehalt', fontsize=14)\n",
        "\n",
        "\n",
        "plt.legend()\n",
        "\n",
        "plt.grid(True)\n",
        "plt.show()"
      ],
      "metadata": {
        "id": "VxzOc_dEnGbO"
      },
      "execution_count": null,
      "outputs": []
    },
    {
      "cell_type": "markdown",
      "source": [
        "# Log level .Salarydifference in percentage"
      ],
      "metadata": {
        "id": "vc4znhGJaNe4"
      }
    },
    {
      "cell_type": "code",
      "source": [
        "import pandas as pd\n",
        "import numpy as np\n",
        "import matplotlib.pyplot as plt\n",
        "import statsmodels.api as sm\n",
        "\n",
        "# Load the dataset\n",
        "data = pd.read_csv(\"/content/11 Kategoriale_Variablen_Salorg.csv\")\n",
        "\n",
        "# Independent variables\n",
        "X = data[['Experience', 'yearsenior', 'Gender_1F']]  # Gender_1F indicates Female as 1, Male as 0\n",
        "\n",
        "# Dependent variable - use log of Salary\n",
        "y = np.log(data['Salary'])\n",
        "\n",
        "# Add a constant to the independent variables (for the intercept in the regression model)\n",
        "X = sm.add_constant(X)\n",
        "\n",
        "# Fit the regression model using Ordinary Least Squares (OLS)\n",
        "model = sm.OLS(y, X).fit()\n",
        "\n",
        "# Print the summary of the model\n",
        "print(model.summary(\"ln(Salary)\"))\n"
      ],
      "metadata": {
        "id": "h0MyvXAMh8P1"
      },
      "execution_count": null,
      "outputs": []
    },
    {
      "cell_type": "code",
      "source": [
        "df=pd.read_csv(\"/content/Housingdata for the stat2.csv\")\n",
        "\n",
        "overallqual_dummies=pd.get_dummies(df[\"OverallQual\"],prefix=\"overallqual\",drop_first=True)\n",
        "neighborhood_dummies=pd.get_dummies(df[\"Neighborhood\"],prefix=\"neighborhood\",drop_first=True)\n",
        "x=pd.concat([df[[\"GrLivArea\",\"Fireplaces\",\"TotalBsmtSF\",\"LotArea\",\"YearRemodAdd\",\"GarageCars\",\"YearBuilt\",\"KitchenAbvGr\"]],overallqual_dummies,neighborhood_dummies],axis=1)\n",
        "x=sm.add_constant(x)\n",
        "y=df[[\"SalePrice\"]]\n",
        "# Alle booleschen Spalten in \"x\" in Ganzzahlen (1 und 0) umwandeln.\n",
        "x = x.apply(lambda col: col.astype(int) if col.dtype == 'bool' else col)\n",
        "\n",
        "# Füge den unabhängigen Varaiblen eine Konstante hinzu ( für den Intercept im Regressionsmodell).\n",
        "x = sm.add_constant(x)\n",
        "\n",
        "# Passe das Regressionsmodell unter Verwendung der Methode der kleinsten Quadrate (OLS) an.\n",
        "model = sm.OLS(y, x)\n",
        "results = model.fit()\n",
        "\n",
        "# Zusammenfassung des Modells\n",
        "print(results.summary())\n"
      ],
      "metadata": {
        "id": "bkJnINSUr_vq"
      },
      "execution_count": null,
      "outputs": []
    },
    {
      "cell_type": "code",
      "source": [
        "df"
      ],
      "metadata": {
        "id": "bEmbaceUh7d3"
      },
      "execution_count": null,
      "outputs": []
    },
    {
      "cell_type": "markdown",
      "source": [
        "# Housingprice with dummyvariable OverallQuality"
      ],
      "metadata": {
        "id": "rA0z2-33aYbf"
      }
    },
    {
      "cell_type": "code",
      "source": [
        "df=pd.read_csv(\"/content/Housingdata for the stat2.csv\")\n",
        "\n",
        "overallqual_dummies=pd.get_dummies(df[\"OverallQual\"],prefix=\"overallqual\",drop_first=True)\n",
        "x=pd.concat([df[[\"GrLivArea\",\"Fireplaces\",\"TotalBsmtSF\",\"LotArea\",\"YearRemodAdd\",\"GarageCars\",\"YearBuilt\",\"KitchenAbvGr\"]],overallqual_dummies],axis=1)\n",
        "x=sm.add_constant(x)\n",
        "y=df[[\"SalePrice\"]]\n",
        "# Alle booleschen Spalten in \"x\" in Ganzzahlen (1 und 0) umwandeln.\n",
        "x = x.apply(lambda col: col.astype(int) if col.dtype == 'bool' else col)\n",
        "\n",
        "# Check the data types to confirm\n",
        "print(x.dtypes)\n",
        "\n",
        "# Füge den unabhängigen Varaiblen eine Konstante hinzu ( für den Intercept im Regressionsmodell).\n",
        "x = sm.add_constant(x)\n",
        "\n",
        "# Passe das Regressionsmodell unter Verwendung der Methode der kleinsten Quadrate (OLS) an.\n",
        "model = sm.OLS(y, x)\n",
        "results = model.fit()\n",
        "\n",
        "# Zusammenfassung des Modells\n",
        "print(results.summary())\n"
      ],
      "metadata": {
        "id": "3j_PQhJL1Zl2"
      },
      "execution_count": null,
      "outputs": []
    },
    {
      "cell_type": "markdown",
      "source": [
        "# Interactionvariable added"
      ],
      "metadata": {
        "id": "J2yYKAV5bD6I"
      }
    },
    {
      "cell_type": "code",
      "source": [
        "import pandas as pd\n",
        "import numpy as np\n",
        "import statsmodels.api as sm\n",
        "import matplotlib.pyplot as plt\n",
        "\n",
        "# Load data\n",
        "data = pd.read_csv(\"/content/Housingdata for the stat2.csv\")\n",
        "\n",
        "# Create the 'good_condition' variable\n",
        "data['good_condition'] = np.where(data['OverallQual'] >= 6, 1, 0)\n",
        "\n",
        "# Create the interaction variable\n",
        "data['lotarea_good_condition'] = data['LotArea'] * data['good_condition']\n",
        "\n",
        "# Define independent variables\n",
        "X = data[['LotArea', 'good_condition', 'lotarea_good_condition']]  # Include the interaction term\n",
        "y = data['SalePrice']  # Dependent variable\n",
        "\n",
        "# Add a constant for the intercept\n",
        "X = sm.add_constant(X)\n",
        "\n",
        "# Fit the regression model\n",
        "model = sm.OLS(y, X).fit()\n",
        "\n",
        "# Display model summary\n",
        "print(model.summary())\n",
        "\n",
        "# Extract the coefficients\n",
        "const = model.params['const']\n",
        "lotarea_coef = model.params['LotArea']\n",
        "good_condition_coef = model.params['good_condition']\n",
        "lotarea_good_condition_coef = model.params['lotarea_good_condition']\n",
        "\n",
        "# Create equations for normal and good condition\n",
        "# Normal condition (good_condition = 0)\n",
        "normal_condition_equation = f\"SalePrice_normal = {const:.2f} + {lotarea_coef:.2f} * LotArea\"\n",
        "\n",
        "# Good condition (good_condition = 1)\n",
        "good_condition_equation = f\"SalePrice_good = {const + good_condition_coef:.2f} + {lotarea_coef + lotarea_good_condition_coef:.2f} * LotArea\"\n",
        "\n",
        "# Print the equations\n",
        "print(\"\\nEquations:\")\n",
        "print(f\"Normal Condition Equation: {normal_condition_equation}\")\n",
        "print(f\"Good Condition Equation: {good_condition_equation}\")\n",
        "\n",
        "# Plot trendlines for both conditions\n",
        "plt.figure(figsize=(10, 6))\n",
        "\n",
        "# Calculate regression lines\n",
        "lotarea_range = np.linspace(data['LotArea'].min(), data['LotArea'].max(), 100)\n",
        "normal_condition_line = const + lotarea_coef * lotarea_range\n",
        "good_condition_line = (const + good_condition_coef) + (lotarea_coef + lotarea_good_condition_coef) * lotarea_range\n",
        "\n",
        "# Plot regression lines\n",
        "plt.plot(lotarea_range, normal_condition_line, color='blue', linestyle='--', label=\"Normal Condition Trendline\")\n",
        "plt.plot(lotarea_range, good_condition_line, color='orange', linestyle='--', label=\"Good Condition Trendline\")\n",
        "\n",
        "# Customize plot\n",
        "plt.title(\"Effect of Lot Area and Condition on Sale Price\")\n",
        "plt.xlabel(\"Lot Area\")\n",
        "plt.ylabel(\"Sale Price\")\n",
        "plt.legend()\n",
        "plt.grid(True)\n",
        "plt.show()\n"
      ],
      "metadata": {
        "id": "-DGkAGXEFnJD"
      },
      "execution_count": null,
      "outputs": []
    }
  ]
}