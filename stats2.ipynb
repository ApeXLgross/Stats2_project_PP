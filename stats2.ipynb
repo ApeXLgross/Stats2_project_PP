{
  "nbformat": 4,
  "nbformat_minor": 0,
  "metadata": {
    "colab": {
      "private_outputs": true,
      "provenance": [],
      "authorship_tag": "ABX9TyOCYBbMsk2D0LtTeRyOxZWn",
      "include_colab_link": true
    },
    "kernelspec": {
      "name": "python3",
      "display_name": "Python 3"
    },
    "language_info": {
      "name": "python"
    }
  },
  "cells": [
    {
      "cell_type": "markdown",
      "metadata": {
        "id": "view-in-github",
        "colab_type": "text"
      },
      "source": [
        "<a href=\"https://colab.research.google.com/github/ApeXLgross/Stats2_project_PP/blob/main/stats2.ipynb\" target=\"_parent\"><img src=\"https://colab.research.google.com/assets/colab-badge.svg\" alt=\"Open In Colab\"/></a>"
      ]
    },
    {
      "cell_type": "markdown",
      "source": [
        "# Gehaltdaten\n",
        "\n"
      ],
      "metadata": {
        "id": "V1bxizdfpStR"
      }
    },
    {
      "cell_type": "code",
      "source": [
        "!git clone https://github.com/ApeXLgross/Stats2_project_PP.git"
      ],
      "metadata": {
        "id": "jpvQf4W_614A"
      },
      "execution_count": null,
      "outputs": []
    },
    {
      "cell_type": "code",
      "source": [
        "import pandas as pd\n",
        "import numpy as np\n",
        "import matplotlib.pyplot as plt\n",
        "import statsmodels.api as sm\n",
        "data=pd.read_csv(\"/content/11 Kategoriale_Variablen_Salorg.csv\")\n",
        "data\n",
        "X = data[['Experience', 'yearsenior', 'Gender_1F']]  # Unabhängige Variable.\n",
        "y = data['Salary']  # Abhängige Variable.\n",
        "\n",
        "#Füge den unabhängigen Varaiblen eine Konstante hinzu ( für den Intercept im Regressionsmodell).\n",
        "X = sm.add_constant(X)\n",
        "\n",
        "#Passe das Regressionsmodell unter Verwendung der Methode der kleinsten Quadrate (OLS) an.\n",
        "model = sm.OLS(y, X).fit()\n",
        "\n",
        "#Zusammenfassung des Modells\n",
        "print(model.summary())\n"
      ],
      "metadata": {
        "id": "8296YFignGXl"
      },
      "execution_count": null,
      "outputs": []
    },
    {
      "cell_type": "code",
      "source": [
        "import pandas as pd\n",
        "import statsmodels.api as sm\n",
        "import matplotlib.pyplot as plt\n",
        "import seaborn as sns\n",
        "\n",
        "# Lade den Datensatz\n",
        "df2 = pd.read_csv('11 Kategoriale_Variablen_Salorg.csv')\n",
        "\n",
        "# Definiere die unabhängigen Variablen (X) und die abhängige Variable (y).\n",
        "X = df2[['Experience', 'Gender_1F']]\n",
        "y = df2['Salary']\n",
        "\n",
        "# Füge den unabhängigen Varaiblen eine Konstante hinzu ( für den Intercept im Regressionsmodell).\n",
        "X = sm.add_constant(X)\n",
        "\n",
        "# Passe das Regressionsmodell unter Verwendung der Methode der kleinsten Quadrate (OLS) an.\n",
        "model = sm.OLS(y, X).fit()\n",
        "\n",
        "# Zusammenfassung des Modells\n",
        "print(model.summary())\n",
        "\n",
        "# Generiere vorhergesagte Werte.\n",
        "df2['predicted_salary'] = model.predict(X)\n",
        "\n",
        "# Gehalt im Vergleich zur Erfahrung plotten\n",
        "plt.figure(figsize=(10, 6))\n",
        "\n",
        "# Plotte männlich (Gender_1F == 0) und weiblich (Gender_1F == 1) separat.\n",
        "sns.scatterplot(data=df2[df2['Gender_1F'] == 0], x='Experience', y='Salary', color='blue', label='Male', s=100, alpha=0.6)\n",
        "sns.scatterplot(data=df2[df2['Gender_1F'] == 1], x='Experience', y='Salary', color='red', label='Female', s=100, alpha=0.6)\n",
        "\n",
        "# Plotte vorhergesagte Linien für sowohl Männer als auch Frauen\n",
        "sns.lineplot(data=df2[df2['Gender_1F'] == 0], x='Experience', y='predicted_salary', color='blue', label='Male Predicted', linewidth=2)\n",
        "sns.lineplot(data=df2[df2['Gender_1F'] == 1], x='Experience', y='predicted_salary', color='red', label='Female Predicted', linewidth=2)\n",
        "\n",
        "\n",
        "plt.title('Gehalt vs Erfahrung nach Geschlecht mit vorhergesagten Linien', fontsize=16)\n",
        "plt.xlabel('Erfahrung (Jahre)', fontsize=14)\n",
        "plt.ylabel('Gehalt', fontsize=14)\n",
        "\n",
        "\n",
        "plt.legend()\n",
        "\n",
        "plt.grid(True)\n",
        "plt.show()"
      ],
      "metadata": {
        "id": "VxzOc_dEnGbO"
      },
      "execution_count": null,
      "outputs": []
    },
    {
      "cell_type": "code",
      "source": [
        "df=pd.read_csv(\"/content/Housingdata for the stat2.csv\")\n",
        "\n",
        "overallqual_dummies=pd.get_dummies(df[\"OverallQual\"],prefix=\"overallqual\",drop_first=True)\n",
        "neighborhood_dummies=pd.get_dummies(df[\"Neighborhood\"],prefix=\"neighborhood\",drop_first=True)\n",
        "x=pd.concat([df[[\"GrLivArea\",\"Fireplaces\",\"TotalBsmtSF\",\"LotArea\",\"YearRemodAdd\",\"GarageCars\",\"YearBuilt\",\"KitchenAbvGr\"]],overallqual_dummies,neighborhood_dummies],axis=1)\n",
        "x=sm.add_constant(x)\n",
        "y=df[[\"SalePrice\"]]\n",
        "# Convert all boolean columns in 'x' to integers (1 and 0)\n",
        "x = x.apply(lambda col: col.astype(int) if col.dtype == 'bool' else col)\n",
        "\n",
        "# Check the data types to confirm\n",
        "print(x.dtypes)\n",
        "\n",
        "# Add constant to the predictor variables for the intercept term\n",
        "x = sm.add_constant(x)\n",
        "\n",
        "# Fit the OLS model\n",
        "model = sm.OLS(y, x)\n",
        "results = model.fit()\n",
        "\n",
        "# Display the results summary\n",
        "print(results.summary())\n"
      ],
      "metadata": {
        "id": "bkJnINSUr_vq"
      },
      "execution_count": null,
      "outputs": []
    },
    {
      "cell_type": "code",
      "source": [
        "df=pd.read_csv(\"/content/Housingdata for the stat2.csv\")\n",
        "\n",
        "overallqual_dummies=pd.get_dummies(df[\"OverallQual\"],prefix=\"overallqual\",drop_first=True)\n",
        "x=pd.concat([df[[\"GrLivArea\",\"Fireplaces\",\"TotalBsmtSF\",\"LotArea\",\"YearRemodAdd\",\"GarageCars\",\"YearBuilt\",\"KitchenAbvGr\"]],overallqual_dummies],axis=1)\n",
        "x=sm.add_constant(x)\n",
        "y=df[[\"SalePrice\"]]\n",
        "# Convert all boolean columns in 'x' to integers (1 and 0)\n",
        "x = x.apply(lambda col: col.astype(int) if col.dtype == 'bool' else col)\n",
        "\n",
        "# Check the data types to confirm\n",
        "print(x.dtypes)\n",
        "\n",
        "# Add constant to the predictor variables for the intercept term\n",
        "x = sm.add_constant(x)\n",
        "\n",
        "# Fit the OLS model\n",
        "model = sm.OLS(y, x)\n",
        "results = model.fit()\n",
        "\n",
        "# Display the results summary\n",
        "print(results.summary())\n"
      ],
      "metadata": {
        "id": "3j_PQhJL1Zl2"
      },
      "execution_count": null,
      "outputs": []
    },
    {
      "cell_type": "code",
      "source": [],
      "metadata": {
        "id": "6vBra1fz1d0y"
      },
      "execution_count": null,
      "outputs": []
    }
  ]
}